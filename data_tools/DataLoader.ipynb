{
 "metadata": {
  "name": "",
  "signature": "sha256:745af4c4df7b0ae1ef72faa83c5c9a72e358530ef30eec9b61d05247c38086f0"
 },
 "nbformat": 3,
 "nbformat_minor": 0,
 "worksheets": [
  {
   "cells": [
    {
     "cell_type": "markdown",
     "metadata": {},
     "source": [
      "# Data Loading\n",
      "Loading the data after retrieving from twitter."
     ]
    },
    {
     "cell_type": "markdown",
     "metadata": {},
     "source": [
      "# Getting Trump's tweets"
     ]
    },
    {
     "cell_type": "code",
     "collapsed": false,
     "input": [
      "import json \n",
      "from os import listdir\n",
      "from os.path import isfile, join\n",
      "import sys\n",
      "\n",
      "\n",
      "files = [tweet for tweet in listdir(\"../tweets/\") if isfile(join(\"../tweets/\", tweet))]\n",
      "files.sort()\n",
      "data = []\n",
      "for tweet in files:\n",
      "    with open(\"../tweets/\" + tweet, 'r') as my_file:\n",
      "        data.append(json.loads(my_file.read()))\n"
     ],
     "language": "python",
     "metadata": {},
     "outputs": [],
     "prompt_number": 36
    },
    {
     "cell_type": "markdown",
     "metadata": {},
     "source": [
      "# Getting Favorites/Likes"
     ]
    },
    {
     "cell_type": "code",
     "collapsed": false,
     "input": [
      "import json \n",
      "from os import listdir\n",
      "from os.path import isfile, join\n",
      "import sys\n",
      "\n",
      "\n",
      "files = [tweet for tweet in listdir(\"../favorites/\") if isfile(join(\"../favorites/\", tweet))]\n",
      "files.sort()\n",
      "data = []\n",
      "for tweet in files:\n",
      "    with open(\"../favorites/\" + tweet, 'r') as my_file:\n",
      "        data.append(json.loads(my_file.read()))\n"
     ],
     "language": "python",
     "metadata": {},
     "outputs": [],
     "prompt_number": 4
    },
    {
     "cell_type": "markdown",
     "metadata": {},
     "source": [
      "# Getting followers and follows\n",
      "Unlike tweets multiple followers and follows are stored in each file.\n",
      "There are many followers, so here we only partially load the data. Each file is named with the cursor used to retrieve that data. A call to python-twitter's api.GetFollowersPaged will return a list containing the next cursor page, the previous cursor page, and the data. So in this case, instead of appending, concatenation must be used."
     ]
    },
    {
     "cell_type": "code",
     "collapsed": false,
     "input": [
      "import json \n",
      "from os import listdir\n",
      "from os.path import isfile, join\n",
      "import sys\n",
      "\n",
      "\n",
      "files = [tweet for tweet in listdir(\"../followers/\") if isfile(join(\"../followers/\", tweet))]\n",
      "data = []\n",
      "for followers in files[0:10]:\n",
      "    with open(\"../followers/\" + followers, 'r') as my_file:\n",
      "        data += json.loads(my_file.read())\n",
      "    \n",
      " "
     ],
     "language": "python",
     "metadata": {},
     "outputs": []
    },
    {
     "cell_type": "markdown",
     "metadata": {},
     "source": [
      "Now for follows"
     ]
    },
    {
     "cell_type": "code",
     "collapsed": false,
     "input": [
      "import json \n",
      "from os import listdir\n",
      "from os.path import isfile, join\n",
      "import sys\n",
      "\n",
      "\n",
      "files = [tweet for tweet in listdir(\"../follows/\") if isfile(join(\"../follows/\", tweet))]\n",
      "data = []\n",
      "for follows in files:\n",
      "    with open(\"../follows/\" + follows, 'r') as my_file:\n",
      "        data += json.loads(my_file.read())\n",
      "\n",
      "\n",
      "    "
     ],
     "language": "python",
     "metadata": {},
     "outputs": []
    },
    {
     "cell_type": "markdown",
     "metadata": {},
     "source": [
      "# Getting Trump's user profile info"
     ]
    },
    {
     "cell_type": "code",
     "collapsed": false,
     "input": [
      "import json \n",
      "from os import listdir\n",
      "from os.path import isfile, join\n",
      "import sys\n",
      "\n",
      "\n",
      "\n",
      "with open(\"../user_trump/trump_user.json\", 'r') as my_file:\n",
      "    data = json.loads(my_file.read())\n",
      "\n"
     ],
     "language": "python",
     "metadata": {},
     "outputs": []
    },
    {
     "cell_type": "markdown",
     "metadata": {},
     "source": [
      "#Getting user mentions"
     ]
    },
    {
     "cell_type": "markdown",
     "metadata": {},
     "source": [
      "### First with @realDonaldTrump"
     ]
    },
    {
     "cell_type": "code",
     "collapsed": false,
     "input": [
      "import json \n",
      "from os import listdir\n",
      "from os.path import isfile, join\n",
      "import sys\n",
      "\n",
      "\n",
      "files = [tweet for tweet in listdir(\"../mentions/@realDonaldTrump/\") if isfile(join(\"../mentions/@realDonaldTrump/\", tweet))]\n",
      "data = []\n",
      "for tweet in files:\n",
      "    with open(\"../mentions/@realDonaldTrump/\" + tweet, 'r') as my_file:\n",
      "        data.append(json.loads(my_file.read()))"
     ],
     "language": "python",
     "metadata": {},
     "outputs": []
    },
    {
     "cell_type": "markdown",
     "metadata": {},
     "source": [
      "### Next with #realDonaldTrump"
     ]
    },
    {
     "cell_type": "code",
     "collapsed": false,
     "input": [
      "import json \n",
      "from os import listdir\n",
      "from os.path import isfile, join\n",
      "import sys\n",
      "\n",
      "\n",
      "files = [tweet for tweet in listdir(\"../mentions/#realDonaldTrump/\") if isfile(join(\"../mentions/#realDonaldTrump/\", tweet))]\n",
      "data = []\n",
      "for tweet in files:\n",
      "    with open(\"../mentions/#realDonaldTrump/\" + tweet, 'r') as my_file:\n",
      "        data.append(json.loads(my_file.read()))"
     ],
     "language": "python",
     "metadata": {},
     "outputs": []
    }
   ],
   "metadata": {}
  }
 ]
}